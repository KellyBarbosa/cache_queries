{
 "cells": [
  {
   "cell_type": "code",
   "execution_count": 2,
   "id": "abb51afb-d6cc-42c7-bf2f-8019c3123e9c",
   "metadata": {},
   "outputs": [
    {
     "name": "stdout",
     "output_type": "stream",
     "text": [
      "Collecting mysql-connector-python\n",
      "  Downloading mysql_connector_python-8.4.0-cp311-cp311-manylinux_2_17_x86_64.whl.metadata (1.9 kB)\n",
      "Downloading mysql_connector_python-8.4.0-cp311-cp311-manylinux_2_17_x86_64.whl (19.5 MB)\n",
      "\u001b[2K   \u001b[90m━━━━━━━━━━━━━━━━━━━━━━━━━━━━━━━━━━━━━━━━\u001b[0m \u001b[32m19.5/19.5 MB\u001b[0m \u001b[31m2.8 MB/s\u001b[0m eta \u001b[36m0:00:00\u001b[0m00:01\u001b[0m00:01\u001b[0mm\n",
      "\u001b[?25hInstalling collected packages: mysql-connector-python\n",
      "Successfully installed mysql-connector-python-8.4.0\n"
     ]
    }
   ],
   "source": [
    "!pip install mysql-connector-python"
   ]
  },
  {
   "cell_type": "code",
   "execution_count": 3,
   "id": "b8212c96-c2db-4547-a020-912445528c17",
   "metadata": {},
   "outputs": [],
   "source": [
    "import mysql.connector"
   ]
  },
  {
   "cell_type": "code",
   "execution_count": 5,
   "id": "2e7aa697-01cb-43e1-81c1-b34cabcbeedb",
   "metadata": {},
   "outputs": [],
   "source": [
    "conn = mysql.connector.connect(\n",
    "    host='mysql_container',\n",
    "    user='root',\n",
    "    password='root',\n",
    "    database='mysql'\n",
    ")\n",
    "cursor = conn.cursor()"
   ]
  },
  {
   "cell_type": "code",
   "execution_count": 8,
   "id": "826d396b-95ec-4bab-8865-3a9a35e72360",
   "metadata": {},
   "outputs": [],
   "source": [
    "cursor.execute('''\n",
    "CREATE TABLE IF NOT EXISTS clientes (\n",
    "    ClienteID INT AUTO_INCREMENT PRIMARY KEY,\n",
    "    Nome VARCHAR(100),\n",
    "    CPF VARCHAR(11),\n",
    "    DataNascimento DATE,\n",
    "    Endereco VARCHAR(255),\n",
    "    Telefone VARCHAR(15),\n",
    "    Email VARCHAR(100),\n",
    "    DataCriacao TIMESTAMP DEFAULT CURRENT_TIMESTAMP,\n",
    "    DesativadoEm TIMESTAMP\n",
    ")\n",
    "''')\n",
    "\n",
    "cursor.execute('''\n",
    "CREATE TABLE IF NOT EXISTS cartoes (\n",
    "    CartaoID INT AUTO_INCREMENT PRIMARY KEY,\n",
    "    ClienteID INT,\n",
    "    NumeroCartao VARCHAR(16),\n",
    "    CVV VARCHAR(3),\n",
    "    DataValidade DATE,\n",
    "    Limite DECIMAL(10, 2),\n",
    "    DataEmissao TIMESTAMP DEFAULT CURRENT_TIMESTAMP,\n",
    "    FOREIGN KEY (ClienteID) REFERENCES clientes(ClienteID)\n",
    ")\n",
    "''')\n",
    "\n",
    "cursor.execute('''\n",
    "CREATE TABLE IF NOT EXISTS transacoes (\n",
    "    TransacaoID INT AUTO_INCREMENT PRIMARY KEY,\n",
    "    CartaoID INT,\n",
    "    DataTransacao TIMESTAMP DEFAULT CURRENT_TIMESTAMP,\n",
    "    Valor DECIMAL(10, 2),\n",
    "    Estabelecimento VARCHAR(100),\n",
    "    Descricao VARCHAR(255),\n",
    "    FOREIGN KEY (CartaoID) REFERENCES cartoes(CartaoID)\n",
    ")\n",
    "''')\n",
    "\n",
    "cursor.execute('''\n",
    "CREATE TABLE IF NOT EXISTS faturas (\n",
    "    FaturaID INT AUTO_INCREMENT PRIMARY KEY,\n",
    "    CartaoID INT,\n",
    "    MesReferencia VARCHAR(7),\n",
    "    ValorTotal DECIMAL(10, 2),\n",
    "    DataVencimento DATE,\n",
    "    DataGeracao TIMESTAMP DEFAULT CURRENT_TIMESTAMP,\n",
    "    FOREIGN KEY (CartaoID) REFERENCES cartoes(CartaoID)\n",
    ")\n",
    "''')\n",
    "\n",
    "cursor.execute('''\n",
    "CREATE TABLE IF NOT EXISTS pagamentos (\n",
    "    PagamentoID INT AUTO_INCREMENT PRIMARY KEY,\n",
    "    FaturaID INT,\n",
    "    DataPagamento TIMESTAMP DEFAULT CURRENT_TIMESTAMP,\n",
    "    ValorPago DECIMAL(10, 2),\n",
    "    MetodoPagamento VARCHAR(50),\n",
    "    FOREIGN KEY (FaturaID) REFERENCES faturas(FaturaID)\n",
    ")\n",
    "''')"
   ]
  },
  {
   "cell_type": "code",
   "execution_count": 9,
   "id": "4c2dd4f8-0cf2-49c1-b9af-f5762b740df4",
   "metadata": {},
   "outputs": [],
   "source": [
    "\n",
    "# Fecha a conexão com o banco de dados\n",
    "conn.commit()\n",
    "conn.close()\n"
   ]
  }
 ],
 "metadata": {
  "kernelspec": {
   "display_name": "Python 3 (ipykernel)",
   "language": "python",
   "name": "python3"
  },
  "language_info": {
   "codemirror_mode": {
    "name": "ipython",
    "version": 3
   },
   "file_extension": ".py",
   "mimetype": "text/x-python",
   "name": "python",
   "nbconvert_exporter": "python",
   "pygments_lexer": "ipython3",
   "version": "3.11.6"
  }
 },
 "nbformat": 4,
 "nbformat_minor": 5
}
